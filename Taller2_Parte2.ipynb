{
  "nbformat": 4,
  "nbformat_minor": 0,
  "metadata": {
    "colab": {
      "name": "Intento Parte 2 Taller 2ipynb",
      "provenance": [],
      "collapsed_sections": [],
      "include_colab_link": true
    },
    "kernelspec": {
      "name": "python3",
      "display_name": "Python 3"
    }
  },
  "cells": [
    {
      "cell_type": "markdown",
      "metadata": {
        "id": "view-in-github",
        "colab_type": "text"
      },
      "source": [
        "<a href=\"https://colab.research.google.com/github/dguti97/Taller2_ANN/blob/master/Taller2_Parte2.ipynb\" target=\"_parent\"><img src=\"https://colab.research.google.com/assets/colab-badge.svg\" alt=\"Open In Colab\"/></a>"
      ]
    },
    {
      "cell_type": "code",
      "metadata": {
        "id": "GhMPf737zBOT",
        "colab_type": "code",
        "colab": {
          "base_uri": "https://localhost:8080/",
          "height": 67
        },
        "outputId": "2f2d151a-7ec2-4193-fdfb-9e4583eef419"
      },
      "source": [
        "import numpy as np \n",
        "import pandas as pd\n",
        "import matplotlib.pyplot as plt\n",
        "import seaborn as sns\n",
        "import nltk\n",
        "nltk.download('stopwords')\n",
        "from keras.preprocessing.text import Tokenizer\n",
        "from keras.preprocessing.sequence import pad_sequences\n",
        "from keras.models import Sequential\n",
        "from keras.layers import Dense, Embedding, LSTM, SpatialDropout1D\n",
        "from sklearn.model_selection import train_test_split\n",
        "from keras.utils.np_utils import to_categorical\n",
        "from keras.callbacks import EarlyStopping\n",
        "from keras.layers import Dropout\n",
        "import re\n",
        "from nltk.corpus import stopwords\n",
        "from nltk import word_tokenize\n",
        "STOPWORDS = set(stopwords.words('english'))\n",
        "from bs4 import BeautifulSoup\n",
        "import plotly.graph_objs as go\n",
        "import cufflinks\n",
        "from IPython.core.interactiveshell import InteractiveShell\n",
        "import plotly.figure_factory as ff\n",
        "InteractiveShell.ast_node_interactivity = 'all'\n",
        "from plotly.offline import iplot\n",
        "cufflinks.go_offline()\n",
        "cufflinks.set_config_file(world_readable=True, theme='pearl')\n"
      ],
      "execution_count": null,
      "outputs": [
        {
          "output_type": "stream",
          "text": [
            "[nltk_data] Downloading package stopwords to /root/nltk_data...\n",
            "[nltk_data]   Package stopwords is already up-to-date!\n"
          ],
          "name": "stdout"
        },
        {
          "output_type": "execute_result",
          "data": {
            "text/plain": [
              "True"
            ]
          },
          "metadata": {
            "tags": []
          },
          "execution_count": 3
        },
        {
          "output_type": "display_data",
          "data": {
            "text/html": [
              "        <script type=\"text/javascript\">\n",
              "        window.PlotlyConfig = {MathJaxConfig: 'local'};\n",
              "        if (window.MathJax) {MathJax.Hub.Config({SVG: {font: \"STIX-Web\"}});}\n",
              "        if (typeof require !== 'undefined') {\n",
              "        require.undef(\"plotly\");\n",
              "        requirejs.config({\n",
              "            paths: {\n",
              "                'plotly': ['https://cdn.plot.ly/plotly-latest.min']\n",
              "            }\n",
              "        });\n",
              "        require(['plotly'], function(Plotly) {\n",
              "            window._Plotly = Plotly;\n",
              "        });\n",
              "        }\n",
              "        </script>\n",
              "        "
            ]
          },
          "metadata": {
            "tags": []
          }
        }
      ]
    },
    {
      "cell_type": "code",
      "metadata": {
        "id": "H--i51TRqzJt",
        "colab_type": "code",
        "colab": {
          "base_uri": "https://localhost:8080/",
          "height": 33
        },
        "outputId": "cb6e3f90-9a30-4c0b-81ec-687ff02aabb4"
      },
      "source": [
        "\n",
        "from google.colab import drive\n",
        "drive.mount('/content/gdrive')"
      ],
      "execution_count": null,
      "outputs": [
        {
          "output_type": "stream",
          "text": [
            "Drive already mounted at /content/gdrive; to attempt to forcibly remount, call drive.mount(\"/content/gdrive\", force_remount=True).\n"
          ],
          "name": "stdout"
        }
      ]
    },
    {
      "cell_type": "markdown",
      "metadata": {
        "id": "UBWuZxmqxatK",
        "colab_type": "text"
      },
      "source": [
        "# NUEVO INTENTO"
      ]
    },
    {
      "cell_type": "code",
      "metadata": {
        "id": "z-z2pfSsxcqp",
        "colab_type": "code",
        "colab": {
          "base_uri": "https://localhost:8080/",
          "height": 487
        },
        "outputId": "72ca8909-e57f-4b07-bee6-dfb2a9b282f0"
      },
      "source": [
        "import pandas as pd\n",
        "\n",
        "df=pd.read_csv(\"train_source_tweets.txt\",delimiter=\"\\t\",names=['id', 'text'])\n",
        "print(df)\n",
        "label=pd.read_csv(\"train_labels.csv\")\n",
        "print(label)"
      ],
      "execution_count": null,
      "outputs": [
        {
          "output_type": "stream",
          "text": [
            "                      id                                               text\n",
            "0     692735698349199360  north korea 'planning some kind of rocket laun...\n",
            "1     525008463819464704  meet kevin vickers, the hero who shot down the...\n",
            "2     505611045897924608  15 year old who \"swatted\" gamer convicted of d...\n",
            "3     693466724822323200  audio recordings reveal cpr started 11 minutes...\n",
            "4     510922415468449792  awful mt @scclemons:uk aid worker david haines...\n",
            "...                  ...                                                ...\n",
            "1921  515598200796090369  #workplace hero shoots #altonnolen #stabbings ...\n",
            "1922  535257207991205888  russian boy shocked by electricity now claims ...\n",
            "1923  524944399890124801  recap: gunman shot dead inside parliament buil...\n",
            "1924  519965814175567872  a vandal painted a brilliantly simple penis on...\n",
            "1925  523939598691741696  cool dog! mt @cbsnews: goliath encounter: pupp...\n",
            "\n",
            "[1926 rows x 2 columns]\n",
            "           label                  id\n",
            "0      non-rumor  692735698349199360\n",
            "1     unverified  525008463819464704\n",
            "2          false  505611045897924608\n",
            "3      non-rumor  693466724822323200\n",
            "4           true  510922415468449792\n",
            "...          ...                 ...\n",
            "1921        true  515598200796090369\n",
            "1922  unverified  535257207991205888\n",
            "1923        true  524944399890124801\n",
            "1924       false  519965814175567872\n",
            "1925        true  523939598691741696\n",
            "\n",
            "[1926 rows x 2 columns]\n"
          ],
          "name": "stdout"
        }
      ]
    },
    {
      "cell_type": "code",
      "metadata": {
        "id": "GsHu3wJ4Bxf6",
        "colab_type": "code",
        "colab": {}
      },
      "source": [
        "df = df.sort_values(by=['id'])\n",
        "label = label.sort_values(by=['id'])"
      ],
      "execution_count": null,
      "outputs": []
    },
    {
      "cell_type": "code",
      "metadata": {
        "id": "QNJ514TtYxU8",
        "colab_type": "code",
        "colab": {
          "base_uri": "https://localhost:8080/",
          "height": 218
        },
        "outputId": "3ecb200f-f29b-4557-e62d-03864d9cbb30"
      },
      "source": [
        "df['text']"
      ],
      "execution_count": null,
      "outputs": [
        {
          "output_type": "execute_result",
          "data": {
            "text/plain": [
              "1339    seriously? racist mcdonald’s sign is obviously...\n",
              "725     hoax: mcdonald's issues official statement on ...\n",
              "1725    #psa please do not drink any pepsi soda, a wor...\n",
              "1675    42 million dead in bloodiest black friday week...\n",
              "941     42 million dead in bloodiest black friday week...\n",
              "                              ...                        \n",
              "58      black men have legitimate reason to run from p...\n",
              "1432    a black man who runs from police merely might ...\n",
              "663     this network of tunnels is from the stone age ...\n",
              "1624    well, this is a new one: chelsea clinton impli...\n",
              "937     chelsea clinton implies here that marijuana ca...\n",
              "Name: text, Length: 1926, dtype: object"
            ]
          },
          "metadata": {
            "tags": []
          },
          "execution_count": 6
        }
      ]
    },
    {
      "cell_type": "code",
      "metadata": {
        "id": "kedOo11Oxzsl",
        "colab_type": "code",
        "colab": {}
      },
      "source": [
        "df = df.reset_index(drop=True)\n",
        "REPLACE_BY_SPACE_RE = re.compile('[/(){}\\[\\]\\|@,;]')\n",
        "BAD_SYMBOLS_RE = re.compile('[^0-9a-z #+_]')\n",
        "STOPWORDS = set(stopwords.words('english'))\n",
        "\n",
        "def clean_text(text):\n",
        "    \"\"\"\n",
        "        text: a string\n",
        "        \n",
        "        return: modified initial string\n",
        "    \"\"\"\n",
        "    text = text.lower() # lowercase text\n",
        "    text = REPLACE_BY_SPACE_RE.sub(' ', text) # replace REPLACE_BY_SPACE_RE symbols by space in text. substitute the matched string in REPLACE_BY_SPACE_RE with space.\n",
        "    text = BAD_SYMBOLS_RE.sub('', text) # remove symbols which are in BAD_SYMBOLS_RE from text. substitute the matched string in BAD_SYMBOLS_RE with nothing. \n",
        "    text = text.replace('x', '')\n",
        "#    text = re.sub(r'\\W+', '', text)\n",
        "    text = ' '.join(word for word in text.split() if word not in STOPWORDS) # remove stopwors from text\n",
        "    return text\n",
        "df['text'] = df['text'].apply(clean_text)\n",
        "df['text'] = df['text'].str.replace('\\d+', '')"
      ],
      "execution_count": null,
      "outputs": []
    },
    {
      "cell_type": "code",
      "metadata": {
        "id": "fKZpEF3UCi3U",
        "colab_type": "code",
        "colab": {
          "base_uri": "https://localhost:8080/",
          "height": 218
        },
        "outputId": "2b4f6dc6-f736-4395-edda-b4dac426e4b0"
      },
      "source": [
        "df['text']"
      ],
      "execution_count": null,
      "outputs": [
        {
          "output_type": "execute_result",
          "data": {
            "text/plain": [
              "0       seriously racist mcdonalds sign obviously hoa url\n",
              "1       hoa mcdonalds issues official statement racist...\n",
              "2       #psa please drink pepsi soda worker company pu...\n",
              "3        million dead bloodiest black friday weekend r...\n",
              "4        million dead bloodiest black friday weekend r...\n",
              "                              ...                        \n",
              "1921    black men legitimate reason run police #massac...\n",
              "1922    black man runs police merely might trying avoi...\n",
              "1923    network tunnels stone age however one knows co...\n",
              "1924    well new one chelsea clinton implies marijuana...\n",
              "1925       chelsea clinton implies marijuana kill uhh url\n",
              "Name: text, Length: 1926, dtype: object"
            ]
          },
          "metadata": {
            "tags": []
          },
          "execution_count": 82
        }
      ]
    },
    {
      "cell_type": "code",
      "metadata": {
        "id": "yuraztgoyGlI",
        "colab_type": "code",
        "colab": {
          "base_uri": "https://localhost:8080/",
          "height": 33
        },
        "outputId": "f99d4b2c-35dc-4b72-eed4-78d410411bb4"
      },
      "source": [
        "# The maximum number of words to be used. (most frequent)\n",
        "MAX_NB_WORDS = 5550\n",
        "# Max number of words in each complaint.\n",
        "MAX_SEQUENCE_LENGTH = 100\n",
        "# This is fixed.\n",
        "EMBEDDING_DIM = 16\n",
        "tokenizer = Tokenizer(num_words=MAX_NB_WORDS, filters='!\"#$%&()*+,-./:;<=>?@[\\]^_`{|}~', lower=True)\n",
        "tokenizer.fit_on_texts(df['text'].values)\n",
        "word_index = tokenizer.word_index\n",
        "MAX_NB_WORDS = len(word_index)+1\n",
        "print('Found %s unique tokens.' % len(word_index))"
      ],
      "execution_count": null,
      "outputs": [
        {
          "output_type": "stream",
          "text": [
            "Found 5515 unique tokens.\n"
          ],
          "name": "stdout"
        }
      ]
    },
    {
      "cell_type": "code",
      "metadata": {
        "id": "DPnTcqOAyNEu",
        "colab_type": "code",
        "colab": {
          "base_uri": "https://localhost:8080/",
          "height": 33
        },
        "outputId": "c007703d-f3ec-4ae0-fbed-f812ba6b9827"
      },
      "source": [
        "X = tokenizer.texts_to_sequences(df['text'].values)\n",
        "X = pad_sequences(X, maxlen=MAX_SEQUENCE_LENGTH)\n",
        "print('Shape of data tensor:', X.shape)"
      ],
      "execution_count": null,
      "outputs": [
        {
          "output_type": "stream",
          "text": [
            "Shape of data tensor: (1926, 100)\n"
          ],
          "name": "stdout"
        }
      ]
    },
    {
      "cell_type": "code",
      "metadata": {
        "id": "TO8ladDpM6hw",
        "colab_type": "code",
        "colab": {
          "base_uri": "https://localhost:8080/",
          "height": 184
        },
        "outputId": "6c055e00-60d8-46c3-b4ec-6bba2d39b5f3"
      },
      "source": [
        "X[0]"
      ],
      "execution_count": null,
      "outputs": [
        {
          "output_type": "execute_result",
          "data": {
            "text/plain": [
              "array([   0,    0,    0,    0,    0,    0,    0,    0,    0,    0,    0,\n",
              "          0,    0,    0,    0,    0,    0,    0,    0,    0,    0,    0,\n",
              "          0,    0,    0,    0,    0,    0,    0,    0,    0,    0,    0,\n",
              "          0,    0,    0,    0,    0,    0,    0,    0,    0,    0,    0,\n",
              "          0,    0,    0,    0,    0,    0,    0,    0,    0,    0,    0,\n",
              "          0,    0,    0,    0,    0,    0,    0,    0,    0,    0,    0,\n",
              "          0,    0,    0,    0,    0,    0,    0,    0,    0,    0,    0,\n",
              "          0,    0,    0,    0,    0,    0,    0,    0,    0,    0,    0,\n",
              "          0,    0,    0,    0,    0,  744,  745,  746,  931, 2507,  433,\n",
              "          1], dtype=int32)"
            ]
          },
          "metadata": {
            "tags": []
          },
          "execution_count": 85
        }
      ]
    },
    {
      "cell_type": "code",
      "metadata": {
        "id": "nixvaIUAySJw",
        "colab_type": "code",
        "colab": {
          "base_uri": "https://localhost:8080/",
          "height": 33
        },
        "outputId": "733ceb92-5676-4bcb-8cab-da66c6d9923a"
      },
      "source": [
        "Y = pd.get_dummies(label['label']).values\n",
        "print('Shape of label tensor:', Y.shape)"
      ],
      "execution_count": null,
      "outputs": [
        {
          "output_type": "stream",
          "text": [
            "Shape of label tensor: (1926, 4)\n"
          ],
          "name": "stdout"
        }
      ]
    },
    {
      "cell_type": "code",
      "metadata": {
        "id": "7iAFT_xu16GO",
        "colab_type": "code",
        "colab": {}
      },
      "source": [
        "label_name=['false','non-rumor','true','unverified']"
      ],
      "execution_count": null,
      "outputs": []
    },
    {
      "cell_type": "code",
      "metadata": {
        "id": "cxrU2bBFykeR",
        "colab_type": "code",
        "colab": {
          "base_uri": "https://localhost:8080/",
          "height": 50
        },
        "outputId": "0b3fd234-5e1b-4de9-fb86-6ddacc6e5c20"
      },
      "source": [
        "X_train, X_test, Y_train, Y_test = train_test_split(X,Y, test_size = 0.10, random_state = 42)\n",
        "print(X_train.shape,Y_train.shape)\n",
        "print(X_test.shape,Y_test.shape)"
      ],
      "execution_count": null,
      "outputs": [
        {
          "output_type": "stream",
          "text": [
            "(1733, 100) (1733, 4)\n",
            "(193, 100) (193, 4)\n"
          ],
          "name": "stdout"
        }
      ]
    },
    {
      "cell_type": "code",
      "metadata": {
        "id": "DxUB713qypDJ",
        "colab_type": "code",
        "colab": {
          "base_uri": "https://localhost:8080/",
          "height": 571
        },
        "outputId": "21647fe8-3604-42d6-b416-602b9eb6fefd"
      },
      "source": [
        "model = Sequential()\n",
        "model.add(Embedding(MAX_NB_WORDS, EMBEDDING_DIM, input_length=X.shape[1]))\n",
        "model.add(SpatialDropout1D(0.25))\n",
        "model.add(LSTM(25, dropout=0.2, recurrent_dropout=0.2))\n",
        "model.add(Dense(4, activation='softmax'))\n",
        "model.compile(loss='categorical_crossentropy', optimizer='adam', metrics=['accuracy'])\n",
        "\n",
        "epochs = 15\n",
        "batch_size = 32 \n",
        "\n",
        "history = model.fit(X_train, Y_train, epochs=epochs, batch_size=batch_size,validation_split=0.1,callbacks=[EarlyStopping(monitor='val_loss', patience=3, min_delta=0.0001)])\n"
      ],
      "execution_count": null,
      "outputs": [
        {
          "output_type": "stream",
          "text": [
            "/usr/local/lib/python3.6/dist-packages/tensorflow/python/framework/indexed_slices.py:434: UserWarning:\n",
            "\n",
            "Converting sparse IndexedSlices to a dense Tensor of unknown shape. This may consume a large amount of memory.\n",
            "\n"
          ],
          "name": "stderr"
        },
        {
          "output_type": "stream",
          "text": [
            "Train on 1559 samples, validate on 174 samples\n",
            "Epoch 1/15\n",
            "1559/1559 [==============================] - 3s 2ms/step - loss: 1.3801 - accuracy: 0.2765 - val_loss: 1.3719 - val_accuracy: 0.2931\n",
            "Epoch 2/15\n",
            "1559/1559 [==============================] - 3s 2ms/step - loss: 1.3540 - accuracy: 0.3438 - val_loss: 1.3495 - val_accuracy: 0.3736\n",
            "Epoch 3/15\n",
            "1559/1559 [==============================] - 2s 2ms/step - loss: 1.2450 - accuracy: 0.5061 - val_loss: 1.1964 - val_accuracy: 0.5230\n",
            "Epoch 4/15\n",
            "1559/1559 [==============================] - 2s 2ms/step - loss: 0.9407 - accuracy: 0.7325 - val_loss: 0.9578 - val_accuracy: 0.6494\n",
            "Epoch 5/15\n",
            "1559/1559 [==============================] - 2s 2ms/step - loss: 0.5968 - accuracy: 0.8538 - val_loss: 0.8128 - val_accuracy: 0.7069\n",
            "Epoch 6/15\n",
            "1559/1559 [==============================] - 3s 2ms/step - loss: 0.3669 - accuracy: 0.9230 - val_loss: 0.7690 - val_accuracy: 0.7126\n",
            "Epoch 7/15\n",
            "1559/1559 [==============================] - 2s 2ms/step - loss: 0.2645 - accuracy: 0.9346 - val_loss: 0.7719 - val_accuracy: 0.7069\n",
            "Epoch 8/15\n",
            "1559/1559 [==============================] - 3s 2ms/step - loss: 0.1930 - accuracy: 0.9545 - val_loss: 0.7445 - val_accuracy: 0.7299\n",
            "Epoch 9/15\n",
            "1559/1559 [==============================] - 3s 2ms/step - loss: 0.1144 - accuracy: 0.9782 - val_loss: 0.7818 - val_accuracy: 0.7356\n",
            "Epoch 10/15\n",
            "1559/1559 [==============================] - 3s 2ms/step - loss: 0.0948 - accuracy: 0.9788 - val_loss: 0.7981 - val_accuracy: 0.7126\n",
            "Epoch 11/15\n",
            "1559/1559 [==============================] - 3s 2ms/step - loss: 0.0966 - accuracy: 0.9801 - val_loss: 0.7320 - val_accuracy: 0.7126\n",
            "Epoch 12/15\n",
            "1559/1559 [==============================] - 2s 2ms/step - loss: 0.0712 - accuracy: 0.9878 - val_loss: 0.7914 - val_accuracy: 0.7069\n",
            "Epoch 13/15\n",
            "1559/1559 [==============================] - 2s 2ms/step - loss: 0.0590 - accuracy: 0.9859 - val_loss: 0.8686 - val_accuracy: 0.7011\n",
            "Epoch 14/15\n",
            "1559/1559 [==============================] - 3s 2ms/step - loss: 0.0448 - accuracy: 0.9917 - val_loss: 0.8617 - val_accuracy: 0.7241\n"
          ],
          "name": "stdout"
        }
      ]
    },
    {
      "cell_type": "code",
      "metadata": {
        "id": "wIXQNE3u1FIr",
        "colab_type": "code",
        "colab": {}
      },
      "source": [
        "df2=pd.read_csv(\"test_source_tweets.txt\",delimiter=\"\\t\",names=['id', 'text'])\n",
        "df2=df2.sort_values(by=['id'])"
      ],
      "execution_count": null,
      "outputs": []
    },
    {
      "cell_type": "code",
      "metadata": {
        "id": "UD2gvF001XFz",
        "colab_type": "code",
        "colab": {
          "base_uri": "https://localhost:8080/",
          "height": 218
        },
        "outputId": "e1d2f889-7481-432a-aff9-adfee0dce736"
      },
      "source": [
        "df2['text']"
      ],
      "execution_count": null,
      "outputs": [
        {
          "output_type": "execute_result",
          "data": {
            "text/plain": [
              "196    deep-fried left wings demo-crab cakes barack-a...\n",
              "61     a photo of black nurses saving the life of a k...\n",
              "136    obama files federal charges against george zim...\n",
              "57     revealed: #fukushima leaking radioactive water...\n",
              "110    details: radioactive water from under #fukushi...\n",
              "                             ...                        \n",
              "133    wow. anthony johnson's knockout win is the 3rd...\n",
              "111    powell breaks silence: clintons trying to 'pin...\n",
              "64     our quote of the day is from american writer d...\n",
              "169    massachusetts court finds that it’s ‘reasonabl...\n",
              "43     black men may have cause to run from police, m...\n",
              "Name: text, Length: 213, dtype: object"
            ]
          },
          "metadata": {
            "tags": []
          },
          "execution_count": 24
        }
      ]
    },
    {
      "cell_type": "code",
      "metadata": {
        "id": "UUMAZgRRWHiN",
        "colab_type": "code",
        "colab": {
          "base_uri": "https://localhost:8080/",
          "height": 218
        },
        "outputId": "985ca264-c096-4926-cff1-ba87a9b50866"
      },
      "source": [
        "df2['text'] = df2['text'].apply(clean_text)\n",
        "df2['text'] = df2['text'].str.replace('\\d+', '')\n",
        "df2['text']"
      ],
      "execution_count": null,
      "outputs": [
        {
          "output_type": "execute_result",
          "data": {
            "text/plain": [
              "196    deepfried left wings democrab cakes barackamol...\n",
              "61         photo black nurses saving life kkk member url\n",
              "136    obama files federal charges george zimmerman f...\n",
              "57     revealed #fukushima leaking radioactive water ...\n",
              "110    details radioactive water #fukushima risen cm ...\n",
              "                             ...                        \n",
              "133    wow anthony johnsons knockout win rdquickest f...\n",
              "111    powell breaks silence clintons trying pin scan...\n",
              "64          quote day american writer dorothy parker url\n",
              "169    massachusetts court finds reasonable black men...\n",
              "43     black men may cause run police massachusetts h...\n",
              "Name: text, Length: 213, dtype: object"
            ]
          },
          "metadata": {
            "tags": []
          },
          "execution_count": 25
        }
      ]
    },
    {
      "cell_type": "code",
      "metadata": {
        "id": "gvoamd8Y1iw7",
        "colab_type": "code",
        "colab": {
          "base_uri": "https://localhost:8080/",
          "height": 33
        },
        "outputId": "c1132975-46c1-498d-eac8-edd3cf77b711"
      },
      "source": [
        "X = tokenizer.texts_to_sequences(df2['text'].values)\n",
        "X = pad_sequences(X, maxlen=MAX_SEQUENCE_LENGTH)\n",
        "print('Shape of data tensor:', X.shape)"
      ],
      "execution_count": null,
      "outputs": [
        {
          "output_type": "stream",
          "text": [
            "Shape of data tensor: (213, 100)\n"
          ],
          "name": "stdout"
        }
      ]
    },
    {
      "cell_type": "code",
      "metadata": {
        "id": "N05uT5jK0-KS",
        "colab_type": "code",
        "colab": {}
      },
      "source": [
        "prediction = model.predict_classes(X)"
      ],
      "execution_count": null,
      "outputs": []
    },
    {
      "cell_type": "code",
      "metadata": {
        "id": "IOs1WWzsFTq_",
        "colab_type": "code",
        "colab": {
          "base_uri": "https://localhost:8080/",
          "height": 184
        },
        "outputId": "1e46cff6-86ca-46fb-b73e-01e8ffa0ddf8"
      },
      "source": [
        "prediction"
      ],
      "execution_count": null,
      "outputs": [
        {
          "output_type": "execute_result",
          "data": {
            "text/plain": [
              "array([0, 0, 0, 0, 0, 0, 0, 0, 2, 2, 2, 2, 2, 2, 2, 2, 2, 2, 2, 0, 0, 0,\n",
              "       1, 3, 3, 3, 3, 3, 3, 3, 2, 0, 0, 2, 2, 2, 2, 1, 3, 3, 2, 0, 1, 1,\n",
              "       0, 2, 0, 0, 0, 2, 2, 2, 2, 2, 2, 2, 2, 2, 2, 3, 2, 2, 2, 2, 2, 2,\n",
              "       2, 0, 1, 3, 3, 0, 0, 0, 3, 0, 0, 3, 2, 2, 2, 2, 3, 1, 2, 2, 3, 2,\n",
              "       2, 2, 2, 3, 3, 0, 2, 2, 0, 0, 2, 2, 2, 2, 2, 2, 2, 1, 0, 0, 0, 1,\n",
              "       0, 0, 0, 1, 0, 2, 2, 2, 2, 2, 0, 2, 0, 0, 0, 3, 0, 0, 1, 1, 1, 2,\n",
              "       3, 0, 0, 3, 0, 0, 0, 3, 1, 1, 0, 0, 1, 0, 0, 2, 0, 1, 1, 1, 1, 1,\n",
              "       1, 1, 1, 1, 1, 1, 1, 1, 1, 1, 1, 1, 1, 1, 2, 1, 3, 0, 1, 0, 1, 1,\n",
              "       1, 1, 1, 1, 1, 1, 1, 1, 1, 1, 1, 1, 1, 1, 2, 0, 1, 0, 1, 1, 1, 1,\n",
              "       3, 1, 3, 3, 3, 1, 1, 1, 3, 3, 1, 1, 1, 3, 3])"
            ]
          },
          "metadata": {
            "tags": []
          },
          "execution_count": 91
        }
      ]
    },
    {
      "cell_type": "code",
      "metadata": {
        "id": "B_2Rh6ZDT17g",
        "colab_type": "code",
        "colab": {}
      },
      "source": [
        "prediction_label = list()\n",
        "for i in range(prediction.shape[0]):\n",
        "    prediction_label.append(label_name[prediction[i]])\n",
        "prediction_label = np.array(prediction_label)"
      ],
      "execution_count": null,
      "outputs": []
    },
    {
      "cell_type": "code",
      "metadata": {
        "id": "lq77uXfaHsvz",
        "colab_type": "code",
        "colab": {}
      },
      "source": [
        "submit = pd.DataFrame({\"label\": prediction_label, \"id\": df2['id'].values})"
      ],
      "execution_count": null,
      "outputs": []
    },
    {
      "cell_type": "code",
      "metadata": {
        "id": "fy6N-2xQIxHL",
        "colab_type": "code",
        "colab": {}
      },
      "source": [
        "submit.to_csv('submission_DevelopIO6.csv',index=False)"
      ],
      "execution_count": null,
      "outputs": []
    },
    {
      "cell_type": "markdown",
      "metadata": {
        "id": "ncrat95lYl7g",
        "colab_type": "text"
      },
      "source": [
        "Otra opcion de predecir"
      ]
    },
    {
      "cell_type": "code",
      "metadata": {
        "id": "2gJqE7wkKZpL",
        "colab_type": "code",
        "colab": {}
      },
      "source": [
        "pred = model.predict(X)"
      ],
      "execution_count": null,
      "outputs": []
    },
    {
      "cell_type": "code",
      "metadata": {
        "id": "ezikTG8MKbsJ",
        "colab_type": "code",
        "colab": {
          "base_uri": "https://localhost:8080/",
          "height": 1000
        },
        "outputId": "bc37c688-0c35-4720-9e96-000fa22e9072"
      },
      "source": [
        "for i in pred:\n",
        "  print(i)\n",
        "  print(label_name[np.argmax(i)])"
      ],
      "execution_count": null,
      "outputs": [
        {
          "output_type": "stream",
          "text": [
            "[9.9999273e-01 2.3792045e-06 5.3895980e-07 4.2778902e-06]\n",
            "false\n",
            "[0.10553202 0.36824456 0.36797473 0.15824868]\n",
            "non-rumor\n",
            "[0.6248569  0.00840126 0.35930482 0.00743703]\n",
            "false\n",
            "[0.06455726 0.2887859  0.11936095 0.5272959 ]\n",
            "unverified\n",
            "[0.3408893  0.12364438 0.00508037 0.530386  ]\n",
            "unverified\n",
            "[0.5613935  0.20385285 0.07072824 0.16402541]\n",
            "false\n",
            "[0.4899445  0.11174774 0.31360653 0.08470125]\n",
            "false\n",
            "[0.18681595 0.03068253 0.7392534  0.04324804]\n",
            "true\n",
            "[0.01722401 0.02866641 0.93074954 0.02336005]\n",
            "true\n",
            "[9.7096269e-04 1.1722147e-03 9.9683207e-01 1.0248586e-03]\n",
            "true\n",
            "[0.10781299 0.08269083 0.70340586 0.10609028]\n",
            "true\n",
            "[9.8316944e-01 8.5700788e-03 6.6732190e-04 7.5931321e-03]\n",
            "false\n",
            "[0.00687364 0.00456395 0.97404736 0.01451506]\n",
            "true\n",
            "[0.8337643  0.09850843 0.04583997 0.02188725]\n",
            "false\n",
            "[0.39878687 0.4987059  0.00575547 0.09675179]\n",
            "non-rumor\n",
            "[0.00287605 0.00748504 0.98753256 0.00210644]\n",
            "true\n",
            "[0.0357843  0.15587032 0.7760746  0.03227078]\n",
            "true\n",
            "[0.18948606 0.712372   0.0573806  0.04076133]\n",
            "non-rumor\n",
            "[0.00462242 0.00344898 0.9809512  0.01097737]\n",
            "true\n",
            "[0.01642344 0.03976623 0.9349696  0.00884073]\n",
            "true\n",
            "[0.2856793  0.40583673 0.23565975 0.07282423]\n",
            "non-rumor\n",
            "[0.16072786 0.57989883 0.03974148 0.21963178]\n",
            "non-rumor\n",
            "[0.19871865 0.0661923  0.0443763  0.6907128 ]\n",
            "unverified\n",
            "[0.02596941 0.13425833 0.74119097 0.09858131]\n",
            "true\n",
            "[0.7238148  0.09508453 0.06186921 0.11923148]\n",
            "false\n",
            "[9.9998534e-01 6.6075668e-06 1.5994278e-06 6.5275108e-06]\n",
            "false\n",
            "[0.02614541 0.01345398 0.95649636 0.00390427]\n",
            "true\n",
            "[0.63330346 0.1258253  0.06362984 0.17724136]\n",
            "false\n",
            "[0.00356002 0.00130501 0.99312603 0.00200893]\n",
            "true\n",
            "[1.9708893e-03 7.5075845e-04 9.9589998e-01 1.3783012e-03]\n",
            "true\n",
            "[0.04902796 0.9298609  0.00267224 0.01843888]\n",
            "non-rumor\n",
            "[0.00373721 0.00541072 0.00128863 0.9895634 ]\n",
            "unverified\n",
            "[9.999932e-01 3.944220e-06 7.544695e-07 2.141905e-06]\n",
            "false\n",
            "[0.01114499 0.96956396 0.01645559 0.00283549]\n",
            "non-rumor\n",
            "[0.00557576 0.26067603 0.01719448 0.7165537 ]\n",
            "unverified\n",
            "[0.01160707 0.02708511 0.94839114 0.01291661]\n",
            "true\n",
            "[0.03101059 0.12661538 0.19691809 0.64545596]\n",
            "unverified\n",
            "[0.04517168 0.02816155 0.00239227 0.9242745 ]\n",
            "unverified\n",
            "[0.00771648 0.00489031 0.00206936 0.98532385]\n",
            "unverified\n",
            "[0.20345898 0.38067287 0.29963315 0.11623494]\n",
            "non-rumor\n",
            "[0.0228094  0.16617908 0.00229768 0.8087139 ]\n",
            "unverified\n",
            "[9.8740244e-01 8.6507965e-03 3.5361553e-04 3.5931438e-03]\n",
            "false\n",
            "[0.0161196  0.02682346 0.9437564  0.01330056]\n",
            "true\n",
            "[0.01390164 0.0426823  0.03176927 0.9116468 ]\n",
            "unverified\n",
            "[0.00242934 0.00306447 0.99261695 0.00188921]\n",
            "true\n",
            "[0.0034128  0.01067727 0.977382   0.008528  ]\n",
            "true\n",
            "[9.9911839e-01 7.3784625e-04 3.3819062e-05 1.0988604e-04]\n",
            "false\n",
            "[9.9999356e-01 2.8388849e-06 1.8994655e-07 3.3597273e-06]\n",
            "false\n",
            "[9.9998307e-01 1.0880264e-05 2.6324201e-07 5.8969658e-06]\n",
            "false\n",
            "[0.14602384 0.23930481 0.01380744 0.6008639 ]\n",
            "unverified\n",
            "[0.07306604 0.41655317 0.0796099  0.43077087]\n",
            "unverified\n",
            "[0.10152774 0.29882672 0.10580702 0.49383852]\n",
            "unverified\n",
            "[0.00490818 0.02491717 0.00264927 0.9675254 ]\n",
            "unverified\n",
            "[1.0955329e-02 9.7808468e-01 5.0435669e-04 1.0455532e-02]\n",
            "non-rumor\n",
            "[0.33113247 0.10377201 0.42136848 0.14372697]\n",
            "true\n",
            "[0.11488328 0.31679943 0.09651882 0.47179848]\n",
            "unverified\n",
            "[9.9992168e-01 5.6507961e-05 1.8028386e-05 3.8478729e-06]\n",
            "false\n",
            "[0.04658689 0.46744213 0.02464635 0.4613246 ]\n",
            "non-rumor\n",
            "[0.00527398 0.00333313 0.9867258  0.00466707]\n",
            "true\n",
            "[0.06245025 0.05487413 0.86448795 0.01818763]\n",
            "true\n",
            "[0.00123832 0.00145141 0.99617165 0.00113858]\n",
            "true\n",
            "[9.9993443e-01 3.2207841e-05 2.9996429e-05 3.3503331e-06]\n",
            "false\n",
            "[0.00109026 0.00172661 0.9958319  0.0013512 ]\n",
            "true\n",
            "[0.14763619 0.18710229 0.47834128 0.18692018]\n",
            "true\n",
            "[0.08610501 0.05548736 0.2955223  0.5628852 ]\n",
            "unverified\n",
            "[0.13403739 0.6306664  0.02065627 0.21463998]\n",
            "non-rumor\n",
            "[0.26155615 0.25794685 0.03250664 0.44799033]\n",
            "unverified\n",
            "[0.92545086 0.03687564 0.00166817 0.03600528]\n",
            "false\n",
            "[0.17316346 0.8198887  0.00178246 0.00516535]\n",
            "non-rumor\n",
            "[9.7683448e-01 9.2282053e-03 3.7244734e-04 1.3564927e-02]\n",
            "false\n",
            "[9.9996114e-01 2.8498262e-05 9.9360045e-07 9.4216894e-06]\n",
            "false\n",
            "[5.3027356e-03 9.8773438e-01 5.0169183e-04 6.4611603e-03]\n",
            "non-rumor\n",
            "[0.05399317 0.75956285 0.02842138 0.15802263]\n",
            "non-rumor\n",
            "[0.01888461 0.36688906 0.6070937  0.0071326 ]\n",
            "true\n",
            "[0.94851375 0.01966161 0.01250913 0.01931555]\n",
            "false\n",
            "[0.08631631 0.5687095  0.2480687  0.09690549]\n",
            "non-rumor\n",
            "[3.6057972e-03 2.9975679e-04 9.9562103e-01 4.7338696e-04]\n",
            "true\n",
            "[9.9711007e-01 1.3737237e-03 2.7704684e-04 1.2392080e-03]\n",
            "false\n",
            "[0.00183813 0.00375145 0.9932713  0.00113916]\n",
            "true\n",
            "[0.00183813 0.00375145 0.9932713  0.00113916]\n",
            "true\n",
            "[0.06193201 0.7934187  0.0310802  0.11356907]\n",
            "non-rumor\n",
            "[0.06193201 0.7934187  0.0310802  0.11356907]\n",
            "non-rumor\n",
            "[9.99960423e-01 2.22610361e-05 1.09112325e-05 6.31276953e-06]\n",
            "false\n",
            "[4.7643920e-05 3.0447882e-05 9.9988556e-01 3.6396817e-05]\n",
            "true\n",
            "[0.01222076 0.0266735  0.93368596 0.0274198 ]\n",
            "true\n",
            "[1.7986088e-03 4.0049385e-03 2.2087143e-04 9.9397558e-01]\n",
            "unverified\n",
            "[0.18222384 0.5876281  0.17728488 0.05286315]\n",
            "non-rumor\n",
            "[9.9995375e-01 1.4063083e-05 2.2156555e-05 9.9977206e-06]\n",
            "false\n",
            "[0.01027432 0.01920614 0.9576398  0.01287968]\n",
            "true\n",
            "[0.14387856 0.24152178 0.25151673 0.36308298]\n",
            "unverified\n",
            "[0.0053745  0.01600498 0.9743488  0.00427167]\n",
            "true\n",
            "[3.7075000e-04 5.2785012e-04 9.9880278e-01 2.9856103e-04]\n",
            "true\n",
            "[0.34542808 0.4738819  0.17230158 0.00838845]\n",
            "non-rumor\n",
            "[0.05140745 0.8777392  0.02511471 0.04573859]\n",
            "non-rumor\n",
            "[8.1116092e-01 1.7558128e-01 6.4321002e-04 1.2614500e-02]\n",
            "false\n",
            "[0.1737041  0.5583211  0.00520228 0.26277256]\n",
            "non-rumor\n",
            "[0.510933   0.3374249  0.09595991 0.05568215]\n",
            "false\n",
            "[0.73324513 0.02665108 0.00554669 0.23455708]\n",
            "false\n",
            "[7.4101515e-02 9.2372155e-01 2.0397724e-04 1.9730758e-03]\n",
            "non-rumor\n",
            "[0.06452068 0.05083825 0.81234026 0.07230078]\n",
            "true\n",
            "[0.15688106 0.58691514 0.22729883 0.02890495]\n",
            "non-rumor\n",
            "[0.31500486 0.21127737 0.30564386 0.1680739 ]\n",
            "false\n",
            "[0.03901872 0.2332322  0.6732499  0.05449916]\n",
            "true\n",
            "[0.33824512 0.21322991 0.22908995 0.2194351 ]\n",
            "false\n",
            "[0.88702214 0.09114379 0.00122346 0.02061063]\n",
            "false\n",
            "[0.00198606 0.00478664 0.9901922  0.00303515]\n",
            "true\n",
            "[9.9980432e-01 1.6353039e-04 1.5295529e-05 1.6906390e-05]\n",
            "false\n",
            "[0.35554305 0.00852643 0.00110713 0.6348234 ]\n",
            "unverified\n",
            "[9.9380243e-01 5.6605283e-03 1.3853524e-04 3.9853327e-04]\n",
            "false\n",
            "[9.8122704e-01 1.8000677e-02 3.8853197e-04 3.8364818e-04]\n",
            "false\n",
            "[0.52267313 0.4058729  0.00192286 0.06953115]\n",
            "false\n",
            "[0.00599443 0.02364887 0.9638708  0.00648589]\n",
            "true\n",
            "[6.0689740e-04 7.0533757e-03 1.7911031e-04 9.9216062e-01]\n",
            "unverified\n",
            "[0.29649702 0.6260709  0.00450229 0.07292984]\n",
            "non-rumor\n",
            "[0.06138211 0.19839747 0.22542304 0.51479745]\n",
            "unverified\n",
            "[0.00434868 0.00883791 0.9849192  0.00189419]\n",
            "true\n",
            "[0.02106268 0.01670036 0.9402238  0.02201313]\n",
            "true\n",
            "[0.54708785 0.14656584 0.0090293  0.29731697]\n",
            "false\n",
            "[0.09662749 0.3834824  0.03869556 0.48119462]\n",
            "unverified\n",
            "[0.21961506 0.4448455  0.21714143 0.11839809]\n",
            "non-rumor\n",
            "[0.38052052 0.45009714 0.05825176 0.11113058]\n",
            "non-rumor\n",
            "[0.15086794 0.10424098 0.162829   0.58206207]\n",
            "unverified\n",
            "[9.9131000e-01 7.2352835e-03 6.2364990e-05 1.3923317e-03]\n",
            "false\n",
            "[5.6839804e-04 4.2493251e-04 9.9840015e-01 6.0648873e-04]\n",
            "true\n",
            "[0.2831005  0.55948657 0.00828659 0.14912632]\n",
            "non-rumor\n",
            "[5.1612617e-04 6.3163514e-04 9.9831843e-01 5.3384661e-04]\n",
            "true\n",
            "[0.22428438 0.23136674 0.47742543 0.06692351]\n",
            "true\n",
            "[0.29826462 0.33641648 0.31961128 0.0457076 ]\n",
            "non-rumor\n",
            "[7.0813543e-01 2.8993565e-01 1.4766649e-04 1.7812481e-03]\n",
            "false\n",
            "[0.1080059  0.24077643 0.55972916 0.09148852]\n",
            "true\n",
            "[0.04308759 0.56448895 0.02866344 0.36376005]\n",
            "non-rumor\n",
            "[2.8398000e-03 2.4412945e-03 2.4963715e-04 9.9446929e-01]\n",
            "unverified\n",
            "[9.9211168e-01 5.3774198e-03 2.1449546e-03 3.6592144e-04]\n",
            "false\n",
            "[0.12671386 0.8645184  0.00401194 0.00475574]\n",
            "non-rumor\n",
            "[7.5639570e-01 2.3624232e-01 6.6955731e-04 6.6923401e-03]\n",
            "false\n",
            "[1.8380707e-02 9.3459815e-01 5.6938559e-04 4.6451747e-02]\n",
            "non-rumor\n",
            "[0.02526774 0.9294701  0.004952   0.04031008]\n",
            "non-rumor\n",
            "[0.02672675 0.04037929 0.01826372 0.91463023]\n",
            "unverified\n",
            "[9.9978799e-01 1.5145665e-04 2.7345612e-05 3.3263346e-05]\n",
            "false\n",
            "[0.0441023  0.08394644 0.05478767 0.81716365]\n",
            "unverified\n",
            "[0.6824869  0.15652426 0.12684204 0.03414684]\n",
            "false\n",
            "[0.5786896  0.3818338  0.00467759 0.03479901]\n",
            "false\n",
            "[0.31495115 0.19402151 0.22848001 0.26254737]\n",
            "false\n",
            "[0.29466742 0.5646026  0.06776404 0.07296596]\n",
            "non-rumor\n",
            "[9.9999344e-01 4.5216448e-06 6.5733127e-07 1.3166067e-06]\n",
            "false\n",
            "[0.17413527 0.6696729  0.0040329  0.15215899]\n",
            "non-rumor\n",
            "[8.5797793e-01 1.3974540e-01 3.9283131e-04 1.8838432e-03]\n",
            "false\n",
            "[0.10035612 0.32146066 0.47282737 0.10535591]\n",
            "true\n",
            "[9.9978799e-01 1.5145665e-04 2.7345612e-05 3.3263346e-05]\n",
            "false\n",
            "[0.8082655  0.02845103 0.00740739 0.15587597]\n",
            "false\n",
            "[0.8656796  0.03943956 0.00322175 0.09165906]\n",
            "false\n",
            "[9.988858e-01 1.006303e-03 9.031085e-05 1.766206e-05]\n",
            "false\n",
            "[0.01533947 0.36194518 0.00571697 0.61699843]\n",
            "unverified\n",
            "[0.04333631 0.03947303 0.00294399 0.9142467 ]\n",
            "unverified\n",
            "[1.4335085e-02 3.1986523e-02 8.9442020e-04 9.5278394e-01]\n",
            "unverified\n",
            "[0.6607074  0.01914196 0.0025615  0.3175892 ]\n",
            "false\n",
            "[0.9352205  0.02975562 0.00220211 0.03282174]\n",
            "false\n",
            "[9.9398863e-01 6.0817972e-04 5.3032367e-03 9.9940167e-05]\n",
            "false\n",
            "[9.4156367e-01 5.6108546e-02 5.0245872e-04 1.8253201e-03]\n",
            "false\n",
            "[2.0936455e-04 1.9593244e-04 9.9950135e-01 9.3320261e-05]\n",
            "true\n",
            "[9.9991679e-01 5.4551077e-05 9.6065173e-07 2.7693060e-05]\n",
            "false\n",
            "[0.07316493 0.1372359  0.00085269 0.7887465 ]\n",
            "unverified\n",
            "[0.19022952 0.624218   0.04727391 0.13827859]\n",
            "non-rumor\n",
            "[0.77322704 0.12961043 0.07644847 0.02071416]\n",
            "false\n",
            "[8.89493227e-01 1.75315610e-04 1.03845901e-04 1.10227615e-01]\n",
            "false\n",
            "[0.00705127 0.01905849 0.00105765 0.9728326 ]\n",
            "unverified\n",
            "[0.3465082  0.07693709 0.28327414 0.2932806 ]\n",
            "false\n",
            "[0.02307784 0.11598552 0.84620297 0.01473366]\n",
            "true\n",
            "[9.9531806e-04 1.5233296e-03 9.9667019e-01 8.1108144e-04]\n",
            "true\n",
            "[0.14162788 0.55665374 0.14533736 0.15638107]\n",
            "non-rumor\n",
            "[7.4515556e-04 1.0372954e-03 9.9780422e-01 4.1329701e-04]\n",
            "true\n",
            "[0.05626845 0.48541635 0.06762926 0.390686  ]\n",
            "non-rumor\n",
            "[0.64590764 0.26361176 0.04905904 0.04142153]\n",
            "false\n",
            "[9.5377779e-01 4.2823754e-02 2.7544255e-04 3.1230266e-03]\n",
            "false\n",
            "[9.9997497e-01 1.6842356e-05 3.6338938e-06 4.6240657e-06]\n",
            "false\n",
            "[0.06586751 0.7509411  0.16372116 0.01947029]\n",
            "non-rumor\n",
            "[9.9983132e-01 1.0565137e-04 3.9430774e-06 5.9169779e-05]\n",
            "false\n",
            "[0.18382786 0.39707863 0.11253101 0.30656248]\n",
            "non-rumor\n",
            "[0.7469581  0.1946206  0.02879982 0.02962155]\n",
            "false\n",
            "[9.9731570e-01 2.4844487e-03 3.6384652e-05 1.6345317e-04]\n",
            "false\n",
            "[0.74872327 0.20208374 0.01672562 0.0324674 ]\n",
            "false\n",
            "[9.9966562e-01 2.4579096e-04 6.9247676e-06 8.1661237e-05]\n",
            "false\n",
            "[0.06586751 0.7509411  0.16372116 0.01947029]\n",
            "non-rumor\n",
            "[9.4084477e-01 4.9438253e-02 7.9148868e-04 8.9255283e-03]\n",
            "false\n",
            "[0.00614857 0.9829705  0.00391362 0.00696738]\n",
            "non-rumor\n",
            "[2.1600664e-04 9.9968755e-01 3.6117064e-05 6.0324666e-05]\n",
            "non-rumor\n",
            "[2.9464893e-03 9.4008511e-01 6.1695394e-04 5.6351472e-02]\n",
            "non-rumor\n",
            "[0.00856788 0.97862315 0.01154843 0.00126052]\n",
            "non-rumor\n",
            "[9.9628192e-01 3.5526084e-03 6.5733470e-06 1.5889974e-04]\n",
            "false\n",
            "[0.01558961 0.03491688 0.00302977 0.9464637 ]\n",
            "unverified\n",
            "[0.02391236 0.05674627 0.7273432  0.19199812]\n",
            "true\n",
            "[0.94209206 0.02051588 0.00510259 0.03228943]\n",
            "false\n",
            "[0.072028   0.9135532  0.00785505 0.00656376]\n",
            "non-rumor\n",
            "[0.27766088 0.37164846 0.02887075 0.32181993]\n",
            "non-rumor\n",
            "[9.9980956e-01 1.5076487e-04 3.2299416e-05 7.3491119e-06]\n",
            "false\n",
            "[9.999945e-01 4.632176e-06 1.131485e-07 6.735905e-07]\n",
            "false\n",
            "[0.04693872 0.11686548 0.00269982 0.833496  ]\n",
            "unverified\n",
            "[0.02514754 0.06847404 0.8439734  0.06240508]\n",
            "true\n",
            "[0.00171569 0.00189209 0.9951131  0.00127913]\n",
            "true\n",
            "[0.05989635 0.15115312 0.48793024 0.3010203 ]\n",
            "true\n",
            "[0.03481427 0.15790755 0.07954309 0.72773516]\n",
            "unverified\n",
            "[9.9338984e-01 4.6163313e-03 3.7827296e-04 1.6156039e-03]\n",
            "false\n",
            "[9.9999344e-01 2.3795419e-06 1.0964433e-06 3.0836673e-06]\n",
            "false\n",
            "[0.39870995 0.45979568 0.01515325 0.12634107]\n",
            "non-rumor\n",
            "[0.2886513  0.1820716  0.03522104 0.49405608]\n",
            "unverified\n",
            "[9.9536937e-01 4.1069812e-03 1.7856194e-04 3.4500545e-04]\n",
            "false\n",
            "[9.9990427e-01 5.0427923e-05 5.9480381e-06 3.9329640e-05]\n",
            "false\n",
            "[0.05669936 0.0199889  0.0111896  0.9121222 ]\n",
            "unverified\n",
            "[0.00472626 0.0303778  0.01103141 0.9538645 ]\n",
            "unverified\n",
            "[0.19663568 0.77360207 0.0018874  0.0278749 ]\n",
            "non-rumor\n",
            "[0.22474284 0.11469894 0.01323064 0.6473276 ]\n",
            "unverified\n",
            "[0.01074303 0.03039292 0.9475091  0.01135492]\n",
            "true\n",
            "[6.2617945e-04 9.8145904e-04 9.9781704e-01 5.7541160e-04]\n",
            "true\n"
          ],
          "name": "stdout"
        }
      ]
    }
  ]
}